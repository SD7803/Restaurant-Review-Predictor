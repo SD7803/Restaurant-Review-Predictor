{
 "cells": [
  {
   "cell_type": "code",
   "execution_count": 1,
   "id": "8e570cb9-0c55-45d7-83d1-0fc616dae93e",
   "metadata": {},
   "outputs": [],
   "source": [
    "import streamlit as st\n"
   ]
  },
  {
   "cell_type": "code",
   "execution_count": 2,
   "id": "46c68f1f-5d39-4f7a-853f-9d9be0b8b0b2",
   "metadata": {},
   "outputs": [],
   "source": [
    "st.set_page_config(\n",
    "    page_title=\"My App\",\n",
    "    page_icon=\":smiley:\",\n",
    "    layout=\"wide\",\n",
    "    initial_sidebar_state=\"expanded\"\n",
    ")\n"
   ]
  },
  {
   "cell_type": "code",
   "execution_count": 3,
   "id": "ef7184f4-6634-416e-8c0d-394ea863abfc",
   "metadata": {},
   "outputs": [],
   "source": [
    "import numpy as np\n",
    "from sklearn.preprocessing import StandardScaler\n",
    "import joblib"
   ]
  },
  {
   "cell_type": "code",
   "execution_count": 4,
   "id": "f3658aa3-d49a-4733-8c25-7eddea7fc534",
   "metadata": {},
   "outputs": [],
   "source": [
    "\n",
    "scaler=joblib.load(\"Scaler.pkl\")"
   ]
  },
  {
   "cell_type": "code",
   "execution_count": 5,
   "id": "6209a057-a7c0-4dfb-873b-52ad0181a249",
   "metadata": {},
   "outputs": [
    {
     "name": "stderr",
     "output_type": "stream",
     "text": [
      "2025-10-14 19:59:52.039 \n",
      "  \u001b[33m\u001b[1mWarning:\u001b[0m to view this Streamlit app on a browser, run it with the following\n",
      "  command:\n",
      "\n",
      "    streamlit run C:\\Users\\Swatika\\anaconda3\\Lib\\site-packages\\ipykernel_launcher.py [ARGUMENTS]\n"
     ]
    },
    {
     "data": {
      "text/plain": [
       "DeltaGenerator()"
      ]
     },
     "execution_count": 5,
     "metadata": {},
     "output_type": "execute_result"
    }
   ],
   "source": [
    "st.title(\"Restaurant Rating Prediction App\")\n",
    "st.caption(\"This app helps you to predict a restaurants review class\")\n",
    "st.divider()"
   ]
  },
  {
   "cell_type": "code",
   "execution_count": 6,
   "id": "cadc9e4f-dd87-490d-900d-aad80fdf08d5",
   "metadata": {},
   "outputs": [
    {
     "name": "stderr",
     "output_type": "stream",
     "text": [
      "2025-10-14 19:59:52.057 Session state does not function when running a script without `streamlit run`\n"
     ]
    }
   ],
   "source": [
    "averagecost=st.number_input(\"Please enter the estimated average cost for two\",min_value=50,max_value=999999,value=1000,step=200)"
   ]
  },
  {
   "cell_type": "code",
   "execution_count": 7,
   "id": "3e0848ff-6ecd-447c-8120-545f3382465f",
   "metadata": {},
   "outputs": [],
   "source": [
    "tablebooking=st.selectbox(\"Restaurant has table booking ?\",[\"Yes\",\"No\"])"
   ]
  },
  {
   "cell_type": "code",
   "execution_count": 8,
   "id": "a74dd4ee-35cb-4a15-90f2-fb367daf445e",
   "metadata": {},
   "outputs": [],
   "source": [
    "onlinedelivery=st.selectbox(\"Restaurant has online booking ?\",[\"Yes\",\"No\"])"
   ]
  },
  {
   "cell_type": "code",
   "execution_count": 9,
   "id": "912bc935-5256-43f5-bc27-f9934e3256ee",
   "metadata": {},
   "outputs": [],
   "source": [
    "pricerange = st.selectbox(\"What is the price range (1 Cheapest, 4 Most expensive)\", [1, 2, 3, 4])\n"
   ]
  },
  {
   "cell_type": "code",
   "execution_count": 10,
   "id": "24e00927-82a2-47bd-ad82-2b13169b3349",
   "metadata": {},
   "outputs": [],
   "source": [
    "predictbutton=st.button(\"Predict the review!\")"
   ]
  },
  {
   "cell_type": "code",
   "execution_count": 11,
   "id": "a544a55b-b440-456d-bd85-0e276c220553",
   "metadata": {},
   "outputs": [
    {
     "data": {
      "text/plain": [
       "DeltaGenerator()"
      ]
     },
     "execution_count": 11,
     "metadata": {},
     "output_type": "execute_result"
    }
   ],
   "source": [
    "st.divider()"
   ]
  },
  {
   "cell_type": "code",
   "execution_count": 12,
   "id": "266aebb0-e847-451e-9a82-1fb58ef3554d",
   "metadata": {},
   "outputs": [],
   "source": [
    "model=joblib.load(\"mlmodel.pkl\")"
   ]
  },
  {
   "cell_type": "code",
   "execution_count": 13,
   "id": "e7d7084a-36c8-446a-bd05-a0d82cdb4bf8",
   "metadata": {},
   "outputs": [],
   "source": [
    "bookingstatus =1 if tablebooking ==\"Yes\" else 0\n",
    "deliverystatus=1 if onlinedelivery == \"Yes\" else 0"
   ]
  },
  {
   "cell_type": "code",
   "execution_count": 14,
   "id": "82448be5-8663-4440-967d-7e3d6c803723",
   "metadata": {},
   "outputs": [
    {
     "name": "stderr",
     "output_type": "stream",
     "text": [
      "C:\\Users\\Swatika\\anaconda3\\Lib\\site-packages\\sklearn\\base.py:493: UserWarning: X does not have valid feature names, but StandardScaler was fitted with feature names\n",
      "  warnings.warn(\n"
     ]
    }
   ],
   "source": [
    "values=[[averagecost,bookingstatus,deliverystatus,pricerange]]\n",
    "my_X_values=np.array(values)\n",
    "X=scaler.transform(my_X_values)"
   ]
  },
  {
   "cell_type": "code",
   "execution_count": 15,
   "id": "1166afe9-925b-4018-8899-f08d7e60c6d9",
   "metadata": {},
   "outputs": [],
   "source": [
    "if predictbutton:\n",
    "    st.snow()\n",
    "    prediction=model.predict(X)\n",
    "    if prediction < 2.5:\n",
    "        st.write(\"Poor\")\n",
    "    elif prediction < 3.5:\n",
    "        st.write(\"Average\")\n",
    "    elif prediction < 4.0:\n",
    "        st.write(\"Good\")\n",
    "    elif prediction < 4.5:\n",
    "        st.write(\"Very Good\")\n",
    "    else:\n",
    "        st.write(\"Excellent\")\n",
    "        "
   ]
  },
  {
   "cell_type": "code",
   "execution_count": null,
   "id": "ef92ed8f-4dca-422c-8aec-96468235466f",
   "metadata": {},
   "outputs": [],
   "source": [
    "\n",
    "\n",
    "\n",
    "\n"
   ]
  },
  {
   "cell_type": "code",
   "execution_count": null,
   "id": "24520ec5-f8c6-4c70-a9c3-fe7b0fa61925",
   "metadata": {},
   "outputs": [],
   "source": []
  },
  {
   "cell_type": "code",
   "execution_count": null,
   "id": "0e680393-f25a-4857-bff6-c7c63f1516a3",
   "metadata": {},
   "outputs": [],
   "source": []
  }
 ],
 "metadata": {
  "kernelspec": {
   "display_name": "Python [conda env:base] *",
   "language": "python",
   "name": "conda-base-py"
  },
  "language_info": {
   "codemirror_mode": {
    "name": "ipython",
    "version": 3
   },
   "file_extension": ".py",
   "mimetype": "text/x-python",
   "name": "python",
   "nbconvert_exporter": "python",
   "pygments_lexer": "ipython3",
   "version": "3.12.7"
  }
 },
 "nbformat": 4,
 "nbformat_minor": 5
}
